{
 "cells": [
  {
   "cell_type": "code",
   "execution_count": 12,
   "metadata": {},
   "outputs": [
    {
     "name": "stdout",
     "output_type": "stream",
     "text": [
      "Type a number\n",
      "aaaa\n",
      "thats not int\n",
      "aaaa : this is odd number\n"
     ]
    }
   ],
   "source": [
    "####  Program 1\n",
    "\n",
    "print(\"Type a number\")\n",
    "\n",
    "a = input()\n",
    "\n",
    "try:\n",
    "    b = int(a)\n",
    "    \n",
    "except ValueError:\n",
    "    print(\"thats not int\")\n",
    "    quit()\n",
    "    \n",
    "if(b%2==0):\n",
    "    print(a+\" : this is even number\")\n",
    "else:\n",
    "    print(a+\" : this is odd number\")\n"
   ]
  },
  {
   "cell_type": "code",
   "execution_count": 6,
   "metadata": {},
   "outputs": [
    {
     "name": "stdout",
     "output_type": "stream",
     "text": [
      "57.4\n",
      "94\n"
     ]
    }
   ],
   "source": [
    "####  Program 2\n",
    "\n",
    "from random import random\n",
    "\n",
    "a = []\n",
    "for i in range(20):\n",
    "    a.append(int((random()*1000)%90+10))\n",
    "    \n",
    "mean = sum(a)/len(a)\n",
    "\n",
    "print(mean)\n",
    "print(max(a))"
   ]
  },
  {
   "cell_type": "code",
   "execution_count": 7,
   "metadata": {},
   "outputs": [
    {
     "name": "stdout",
     "output_type": "stream",
     "text": [
      "0.0\n"
     ]
    }
   ],
   "source": [
    "###  Program 3\n",
    "\n",
    "def cos_betw_vect(a, b):\n",
    "    if(len(a) == len(b)):\n",
    "        counter = 0\n",
    "        denom1 = 0\n",
    "        denom2 = 0\n",
    "        for i in range(len(a)):\n",
    "            counter += a[i]*b[i]\n",
    "            denom1 += a[i]**2\n",
    "            denom2 += b[i]**2\n",
    "        \n",
    "        cos = counter/(denom1**0.5 * denom2**0.5)\n",
    "        print(cos)\n",
    "    else:\n",
    "        print(\"dims not match\")\n",
    "        \n",
    "cos_betw_vect([1,0],[0,1])"
   ]
  },
  {
   "cell_type": "code",
   "execution_count": 33,
   "metadata": {},
   "outputs": [
    {
     "name": "stdout",
     "output_type": "stream",
     "text": [
      "4\n",
      "6\n"
     ]
    }
   ],
   "source": [
    "### Prog 4\n",
    "\n",
    "def my_fun(c,b):\n",
    "    a = list(c)\n",
    "    for i in range(1,len(a)-1):\n",
    "        if(a[i]%b == 0):\n",
    "            print(a[i])\n",
    "            \n",
    "my_fun({2,3,4,5,6,7,8},2)"
   ]
  },
  {
   "cell_type": "code",
   "execution_count": 8,
   "metadata": {},
   "outputs": [
    {
     "name": "stdout",
     "output_type": "stream",
     "text": [
      "2\n",
      "5\n"
     ]
    }
   ],
   "source": [
    "### Prog 5\n",
    "\n",
    "\n",
    "def my_fun(a,b):\n",
    "    lll=[]\n",
    "    for i in range(len(a)):\n",
    "        if(a[i] in b):\n",
    "            print(a[i])\n",
    "            lll.append(a[i])\n",
    "            \n",
    "            \n",
    "my_fun([1,2,3,4,5,6],[2,5])"
   ]
  },
  {
   "cell_type": "code",
   "execution_count": 37,
   "metadata": {},
   "outputs": [
    {
     "name": "stdout",
     "output_type": "stream",
     "text": [
      "bbbbb\n"
     ]
    }
   ],
   "source": [
    "### Prog 6\n",
    "\n",
    "\n",
    "def my_fun(a):\n",
    "    new = a.replace(\"a\",\"\")\n",
    "    print(new)\n",
    "    \n",
    "my_fun(\"aaabababababa\")"
   ]
  },
  {
   "cell_type": "code",
   "execution_count": 45,
   "metadata": {},
   "outputs": [
    {
     "name": "stdout",
     "output_type": "stream",
     "text": [
      "8\n",
      "1\n"
     ]
    }
   ],
   "source": [
    "### Prog 7\n",
    "\n",
    "\n",
    "def my_fun(a):\n",
    "    letters = 0\n",
    "    digits = 0\n",
    "    for i in range(len(a)):\n",
    "        if(a[i].isalpha() == True):\n",
    "           letters += 1\n",
    "        if(a[i].isdigit() == True):\n",
    "           digits += 1\n",
    "    print(letters)\n",
    "    print(digits)\n",
    "    \n",
    "my_fun(\"my age iss 5\")"
   ]
  },
  {
   "cell_type": "code",
   "execution_count": 14,
   "metadata": {},
   "outputs": [
    {
     "name": "stdout",
     "output_type": "stream",
     "text": [
      "[()]\n",
      "[('a',), ('b',), ('c',), ('d',)]\n",
      "[('a', 'b'), ('a', 'c'), ('a', 'd'), ('b', 'c'), ('b', 'd'), ('c', 'd')]\n",
      "[('a', 'b', 'c'), ('a', 'b', 'd'), ('a', 'c', 'd'), ('b', 'c', 'd')]\n",
      "[('a', 'b', 'c', 'd')]\n"
     ]
    }
   ],
   "source": [
    "### Prog 8\n",
    "\n",
    "import itertools\n",
    "\n",
    "number = ['a','b','c','d']\n",
    "\n",
    "for i in range(0,len(number)+1):\n",
    "    print(list(itertools.combinations(number, i)))"
   ]
  },
  {
   "cell_type": "code",
   "execution_count": 9,
   "metadata": {},
   "outputs": [
    {
     "name": "stdout",
     "output_type": "stream",
     "text": [
      "('a', 22)\n"
     ]
    }
   ],
   "source": [
    "### Prog 9\n",
    "\n",
    "\n",
    "import collections\n",
    "\n",
    "a='asdasdasdfasfnwjkfnlwkjfbwlhbrwqehraaaaaaaaaaaaaaaaaa'\n",
    "\n",
    "aa=collections.Counter(a).most_common(1)[0]\n",
    "\n",
    "print(aa)"
   ]
  },
  {
   "cell_type": "code",
   "execution_count": 27,
   "metadata": {},
   "outputs": [
    {
     "name": "stdout",
     "output_type": "stream",
     "text": [
      "[1, 0, 0, 0, 1]\n"
     ]
    }
   ],
   "source": [
    "### Prog 10\n",
    "\n",
    "def change_to_bin(n):\n",
    "    binn = []\n",
    "    \n",
    "    while(n != 0):\n",
    "        binn.append(n%2)\n",
    "        n=n//2\n",
    "        \n",
    "    print(str(binn[::-1]))\n",
    "        \n",
    "change_to_bin(17)"
   ]
  },
  {
   "cell_type": "code",
   "execution_count": 23,
   "metadata": {},
   "outputs": [],
   "source": [
    "import nltk"
   ]
  },
  {
   "cell_type": "code",
   "execution_count": 25,
   "metadata": {},
   "outputs": [
    {
     "name": "stdout",
     "output_type": "stream",
     "text": [
      ",\n"
     ]
    }
   ],
   "source": [
    "### Prog 10\n",
    "\n",
    "def change_to_bin(n):\n",
    "    binn = []\n",
    "    \n",
    "    while(n != 0):\n",
    "        binn.append(n%2)\n",
    "        n=n//2\n",
    "        \n",
    "    print(str(binn[::-1]).join(','))\n",
    "        \n",
    "change_to_bin(1000)"
   ]
  },
  {
   "cell_type": "code",
   "execution_count": null,
   "metadata": {},
   "outputs": [],
   "source": []
  }
 ],
 "metadata": {
  "kernelspec": {
   "display_name": "Python 3",
   "language": "python",
   "name": "python3"
  },
  "language_info": {
   "codemirror_mode": {
    "name": "ipython",
    "version": 3
   },
   "file_extension": ".py",
   "mimetype": "text/x-python",
   "name": "python",
   "nbconvert_exporter": "python",
   "pygments_lexer": "ipython3",
   "version": "3.7.1"
  }
 },
 "nbformat": 4,
 "nbformat_minor": 2
}
